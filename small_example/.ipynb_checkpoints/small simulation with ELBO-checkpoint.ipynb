{
 "cells": [
  {
   "cell_type": "code",
   "execution_count": 1,
   "metadata": {
    "collapsed": true
   },
   "outputs": [],
   "source": [
    "import sys\n",
    "sys.path.append(\"..\")\n",
    "from SINC_functions import *\n",
    "import matplotlib.pyplot as plt"
   ]
  },
  {
   "cell_type": "code",
   "execution_count": 2,
   "metadata": {
    "collapsed": true
   },
   "outputs": [],
   "source": [
    "x = np.genfromtxt(\"x.csv\")\n",
    "m = np.genfromtxt(\"m.csv\")\n",
    "Omega_true = np.genfromtxt(\"prec_true.csv\")\n",
    "B_true = np.genfromtxt(\"B_true.csv\")\n",
    "adj_true = np.genfromtxt(\"adj_true.csv\")"
   ]
  },
  {
   "cell_type": "code",
   "execution_count": 3,
   "metadata": {},
   "outputs": [
    {
     "name": "stdout",
     "output_type": "stream",
     "text": [
      "('Finished Iteration 1: ', 'change in Omega,B,Z', 0.2858054858979651, 1.0608011562430821, 2.547128257164801)\n",
      "('Finished Iteration 2: ', 'change in Omega,B,Z', 0.40356962956622033, 0.12248690884359814, 1.071142332775442)\n",
      "('Finished Iteration 3: ', 'change in Omega,B,Z', 0.1787830927390477, 0.10591620904686783, 0.7581112844492295)\n",
      "('Finished Iteration 4: ', 'change in Omega,B,Z', 0.06002890905250102, 0.12512065632536978, 0.3812493060093658)\n",
      "('Finished Iteration 5: ', 'change in Omega,B,Z', 0.03899981355298245, 0.06455384287668131, 0.5536812310312973)\n",
      "('Finished Iteration 6: ', 'change in Omega,B,Z', 0.03876572065013308, 0.0950213260702426, 0.1402736611795341)\n",
      "('Finished Iteration 7: ', 'change in Omega,B,Z', 0.026182622633811978, 0.020318406565056624, 0.07923533880004863)\n",
      "('Finished Iteration 8: ', 'change in Omega,B,Z', 0.038812007710815215, 0.010569960039769122, 0.08791216921568418)\n",
      "('Finished Iteration 9: ', 'change in Omega,B,Z', 0.007431243391085696, 0.005557470909035356, 0.0627455300616957)\n",
      "('v0 = ', 0.01, 'Sparsity = ', 0.0368)\n"
     ]
    }
   ],
   "source": [
    "v0 = 0.01\n",
    "v1 = 10\n",
    "lamb = 150\n",
    "vB = 1\n",
    "max_iters = 10\n",
    "tol_prec = 0.01\n",
    "tol_B = 0.01\n",
    "cpus = 1\n",
    "omega, EZ, phi,B,iters_total  = SINC(x, m, v0, v1, lamb, vB, max_iters, tol_prec, tol_B, cpus)"
   ]
  },
  {
   "cell_type": "markdown",
   "metadata": {},
   "source": [
    "# Check Model Performance"
   ]
  },
  {
   "cell_type": "markdown",
   "metadata": {},
   "source": [
    "#### plot estimated B coefficients against true coefficients"
   ]
  },
  {
   "cell_type": "code",
   "execution_count": 4,
   "metadata": {},
   "outputs": [
    {
     "data": {
      "image/png": "[encoded data removed]",
      "text/plain": [
       "<Figure size 432x288 with 1 Axes>"
      ]
     },
     "metadata": {},
     "output_type": "display_data"
    }
   ],
   "source": [
    "plt.plot(B.flatten(),B_true.flatten(),'ro')\n",
    "plt.show()"
   ]
  },
  {
   "cell_type": "markdown",
   "metadata": {},
   "source": [
    "#### plot estimated B coefficients against true coefficients accounting for which covariates are selected"
   ]
  },
  {
   "cell_type": "code",
   "execution_count": 5,
   "metadata": {},
   "outputs": [
    {
     "data": {
      "image/png": "[encoded data removed]",
      "text/plain": [
       "<Figure size 432x288 with 1 Axes>"
      ]
     },
     "metadata": {},
     "output_type": "display_data"
    }
   ],
   "source": [
    "B_threshold = B.flatten() * (phi.flatten() > 0.50)\n",
    "plt.plot(B_threshold,B_true.flatten(),'ro')\n",
    "plt.show()"
   ]
  },
  {
   "cell_type": "markdown",
   "metadata": {},
   "source": [
    "#### find the TPR, FPR, MCC, and F1 for B estimates"
   ]
  },
  {
   "cell_type": "code",
   "execution_count": 6,
   "metadata": {},
   "outputs": [
    {
     "name": "stdout",
     "output_type": "stream",
     "text": [
      "('TPR:', 0.9867, 'FPR:', 0.0033, 'MCC:', 0.9917, 'F1:', 0.9933)\n"
     ]
    }
   ],
   "source": [
    "B_edges_true = (B_true != 0)*1\n",
    "B_edges_est = (phi > 0.50) *1\n",
    "TPR,FPR,MCC,F1 = np.round(Performance_B(B_edges_true,B_edges_est),4)\n",
    "print(\"TPR:\",TPR,\"FPR:\",FPR,\"MCC:\",MCC,\"F1:\",F1,)"
   ]
  },
  {
   "cell_type": "code",
   "execution_count": null,
   "metadata": {
    "collapsed": true
   },
   "outputs": [],
   "source": []
  },
  {
   "cell_type": "markdown",
   "metadata": {},
   "source": [
    "#### Plot estimated precision matrix values against true precision matrix values"
   ]
  },
  {
   "cell_type": "code",
   "execution_count": 7,
   "metadata": {},
   "outputs": [
    {
     "data": {
      "image/png": "[encoded data removed]",
      "text/plain": [
       "<Figure size 432x288 with 1 Axes>"
      ]
     },
     "metadata": {},
     "output_type": "display_data"
    }
   ],
   "source": [
    "plt.plot(omega.flatten(),Omega_true.flatten(),'ro')\n",
    "plt.show()"
   ]
  },
  {
   "cell_type": "markdown",
   "metadata": {},
   "source": [
    "#### find the TPR, FPR, MCC, and F1 for Omega estimates"
   ]
  },
  {
   "cell_type": "code",
   "execution_count": 9,
   "metadata": {},
   "outputs": [
    {
     "name": "stdout",
     "output_type": "stream",
     "text": [
      "('TPR:', 0.5217, 'FPR:', 0.0357, 'MCC:', 0.6247, 'F1:', 0.6316)\n"
     ]
    }
   ],
   "source": [
    "adj_est = (EZ > 0.50) * 1.0\n",
    "TPR,FPR,MCC,F1 = np.round(Performance_Omega(adj_true,adj_est),4)\n",
    "print(\"TPR:\",TPR,\"FPR:\",FPR,\"MCC:\",MCC,\"F1:\",F1,)"
   ]
  },
  {
   "cell_type": "code",
   "execution_count": null,
   "metadata": {
    "collapsed": true
   },
   "outputs": [],
   "source": []
  },
  {
   "cell_type": "code",
   "execution_count": 4,
   "metadata": {},
   "outputs": [
    {
     "data": {
      "text/plain": [
       "(350, 25)"
      ]
     },
     "execution_count": 4,
     "metadata": {},
     "output_type": "execute_result"
    }
   ],
   "source": []
  }
 ],
 "metadata": {
  "kernelspec": {
   "display_name": "Python 2",
   "language": "python",
   "name": "python2"
  },
  "language_info": {
   "codemirror_mode": {
    "name": "ipython",
    "version": 2
   },
   "file_extension": ".py",
   "mimetype": "text/x-python",
   "name": "python",
   "nbconvert_exporter": "python",
   "pygments_lexer": "ipython2",
   "version": "2.7.15"
  }
 },
 "nbformat": 4,
 "nbformat_minor": 2
}
