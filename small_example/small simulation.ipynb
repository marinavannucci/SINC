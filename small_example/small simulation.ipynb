{
 "cells": [
  {
   "cell_type": "code",
   "execution_count": 1,
   "metadata": {
    "collapsed": true
   },
   "outputs": [],
   "source": [
    "import sys\n",
    "sys.path.append(\"..\")\n",
    "from SINC_functions import *\n",
    "import matplotlib.pyplot as plt"
   ]
  },
  {
   "cell_type": "code",
   "execution_count": 2,
   "metadata": {
    "collapsed": true
   },
   "outputs": [],
   "source": [
    "x = np.genfromtxt(\"x.csv\")\n",
    "m = np.genfromtxt(\"m.csv\")\n",
    "Omega_true = np.genfromtxt(\"prec_true.csv\")\n",
    "B_true = np.genfromtxt(\"B_true.csv\")\n",
    "adj_true = np.genfromtxt(\"adj_true.csv\")"
   ]
  },
  {
   "cell_type": "code",
   "execution_count": 3,
   "metadata": {},
   "outputs": [
    {
     "name": "stdout",
     "output_type": "stream",
     "text": [
      "('ELBO:', -8266.38412621613, 'CHANGE IN ELBO:', 10000)\n",
      "('ELBO:', -6625.495811361987, 'CHANGE IN ELBO:', 1640.8883148541427)\n",
      "('ELBO:', -5363.196938020528, 'CHANGE IN ELBO:', 1262.2988733414586)\n",
      "('ELBO:', -4795.154725923016, 'CHANGE IN ELBO:', 568.0422120975127)\n",
      "('ELBO:', -4509.638406961769, 'CHANGE IN ELBO:', 285.5163189612467)\n",
      "('ELBO:', -4373.223855349484, 'CHANGE IN ELBO:', 136.4145516122844)\n",
      "('ELBO:', -4302.9334426658215, 'CHANGE IN ELBO:', 70.29041268366291)\n",
      "('ELBO:', -4267.194278100188, 'CHANGE IN ELBO:', 35.73916456563347)\n",
      "('ELBO:', -4253.115228893521, 'CHANGE IN ELBO:', 14.07904920666715)\n",
      "('ELBO:', -4251.6433367655245, 'CHANGE IN ELBO:', 1.471892127996398)\n",
      "('v0 = ', 0.01, 'Sparsity = ', 0.0432, 'ELBO = ', -4251.6433367655245)\n"
     ]
    }
   ],
   "source": [
    "v0 = 0.01\n",
    "v1 = 10\n",
    "lamb = 150\n",
    "vB = 1\n",
    "a_pi = 2\n",
    "b_pi = 2\n",
    "a_gamma = 2\n",
    "b_gamma = 2\n",
    "a_tau = 2\n",
    "b_tau = 2\n",
    "max_iters = 100\n",
    "tol_prec = 0.01\n",
    "tol_elbo = 10.0\n",
    "cpus = 1\n",
    "omega, EZ, phi,B,iters_total, elbo, elbo_score  = SINC_update_tau(x, m, v0, v1, lamb, vB,a_gamma,b_gamma,a_pi,b_pi,a_tau,b_tau, max_iters, tol_prec, tol_elbo, cpus)"
   ]
  },
  {
   "cell_type": "markdown",
   "metadata": {},
   "source": [
    "# Check Model Performance"
   ]
  },
  {
   "cell_type": "markdown",
   "metadata": {},
   "source": [
    "#### plot estimated B coefficients against true coefficients accounting for which covariates are selected"
   ]
  },
  {
   "cell_type": "code",
   "execution_count": 4,
   "metadata": {},
   "outputs": [
    {
     "data": {
      "image/png": "[encoded data removed]",
      "text/plain": [
       "<Figure size 432x288 with 1 Axes>"
      ]
     },
     "metadata": {},
     "output_type": "display_data"
    }
   ],
   "source": [
    "B_threshold = B.flatten() * (phi.flatten() > 0.50)\n",
    "plt.plot(B_threshold,B_true.flatten(),'ro')\n",
    "plt.show()"
   ]
  },
  {
   "cell_type": "code",
   "execution_count": 5,
   "metadata": {},
   "outputs": [
    {
     "data": {
      "image/png": "[encoded data removed]",
      "text/plain": [
       "<Figure size 432x288 with 1 Axes>"
      ]
     },
     "metadata": {},
     "output_type": "display_data"
    }
   ],
   "source": [
    "B_threshold = B.flatten() * (phi.flatten())\n",
    "plt.plot(B_threshold,B_true.flatten(),'ro')\n",
    "plt.show()"
   ]
  },
  {
   "cell_type": "markdown",
   "metadata": {},
   "source": [
    "#### find the TPR, FPR, MCC, and F1 for B estimates"
   ]
  },
  {
   "cell_type": "code",
   "execution_count": 6,
   "metadata": {},
   "outputs": [
    {
     "name": "stdout",
     "output_type": "stream",
     "text": [
      "('TPR:', 1.0, 'FPR:', 0.0, 'MCC:', 1.0, 'F1:', 1.0)\n"
     ]
    }
   ],
   "source": [
    "B_edges_true = (B_true != 0)*1\n",
    "B_edges_est = (phi > 0.50) *1\n",
    "TPR,FPR,MCC,F1 = np.round(Performance_B(B_edges_true,B_edges_est),4)\n",
    "print(\"TPR:\",TPR,\"FPR:\",FPR,\"MCC:\",MCC,\"F1:\",F1,)"
   ]
  },
  {
   "cell_type": "code",
   "execution_count": null,
   "metadata": {
    "collapsed": true
   },
   "outputs": [],
   "source": []
  },
  {
   "cell_type": "markdown",
   "metadata": {},
   "source": [
    "#### Plot estimated precision matrix values against true precision matrix values"
   ]
  },
  {
   "cell_type": "code",
   "execution_count": 7,
   "metadata": {},
   "outputs": [
    {
     "data": {
      "image/png": "[encoded data removed]",
      "text/plain": [
       "<Figure size 432x288 with 1 Axes>"
      ]
     },
     "metadata": {},
     "output_type": "display_data"
    }
   ],
   "source": [
    "plt.plot(omega.flatten(),Omega_true.flatten(),'ro')\n",
    "plt.show()"
   ]
  },
  {
   "cell_type": "markdown",
   "metadata": {},
   "source": [
    "#### find the TPR, FPR, MCC, and F1 for Omega estimates"
   ]
  },
  {
   "cell_type": "code",
   "execution_count": 8,
   "metadata": {},
   "outputs": [
    {
     "name": "stdout",
     "output_type": "stream",
     "text": [
      "('TPR:', 1.0, 'FPR:', 0.0403, 'MCC:', 0.7302, 'F1:', 0.7143)\n"
     ]
    }
   ],
   "source": [
    "adj_est = (EZ > 0.50) * 1.0\n",
    "TPR,FPR,MCC,F1 = np.round(Performance_Omega(adj_true,adj_est),4)\n",
    "print(\"TPR:\",TPR,\"FPR:\",FPR,\"MCC:\",MCC,\"F1:\",F1,)"
   ]
  }
 ],
 "metadata": {
  "kernelspec": {
   "display_name": "Python 2",
   "language": "python",
   "name": "python2"
  },
  "language_info": {
   "codemirror_mode": {
    "name": "ipython",
    "version": 2
   },
   "file_extension": ".py",
   "mimetype": "text/x-python",
   "name": "python",
   "nbconvert_exporter": "python",
   "pygments_lexer": "ipython2",
   "version": "2.7.15"
  }
 },
 "nbformat": 4,
 "nbformat_minor": 2
}
